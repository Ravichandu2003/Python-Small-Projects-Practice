{
 "cells": [
  {
   "cell_type": "code",
   "execution_count": 3,
   "metadata": {},
   "outputs": [],
   "source": [
    "import random"
   ]
  },
  {
   "cell_type": "code",
   "execution_count": 2,
   "metadata": {},
   "outputs": [],
   "source": [
    "def user_guess(x):\n",
    "    random_number = random.randint(1,x)\n",
    "    guess=0\n",
    "    while guess != random_number:\n",
    "        guess = int(input(f'Guess a number between  1 and {x}: '))\n",
    "        if guess < random_number:\n",
    "            print(f'Sorry, guess again. That is too low!')\n",
    "        elif guess > random_number:\n",
    "            print('Sorry,guess again. That is too high')\n",
    "    print(f'Yay, congrats. You have guessed the number {random_number} correctly!')"
   ]
  },
  {
   "cell_type": "code",
   "execution_count": 4,
   "metadata": {},
   "outputs": [],
   "source": [
    "def computer_guess(y):\n",
    "    low = 1\n",
    "    high = y\n",
    "    feedback = ''\n",
    "\n",
    "    while  feedback != 'c':\n",
    "        if low != high:\n",
    "            guess = random.randint(low,high)\n",
    "        else:\n",
    "            guess = low\n",
    "        feedback=input(f'Is {guess} too high (H), too low (L), or Correct (C)?').lower()\n",
    "        if feedback=='h':\n",
    "            high=guess-1\n",
    "        elif feedback=='l':\n",
    "            low=guess+1\n",
    "    print(f'Yay! The computer gussed your number, {guess}, correctly!')"
   ]
  },
  {
   "cell_type": "code",
   "execution_count": 5,
   "metadata": {},
   "outputs": [
    {
     "name": "stdout",
     "output_type": "stream",
     "text": [
      "Yay! The computer gussed your number, 9, correctly!\n"
     ]
    }
   ],
   "source": [
    "computer_guess(20)"
   ]
  }
 ],
 "metadata": {
  "kernelspec": {
   "display_name": "sproject",
   "language": "python",
   "name": "sproject"
  },
  "language_info": {
   "codemirror_mode": {
    "name": "ipython",
    "version": 3
   },
   "file_extension": ".py",
   "mimetype": "text/x-python",
   "name": "python",
   "nbconvert_exporter": "python",
   "pygments_lexer": "ipython3",
   "version": "3.11.8"
  }
 },
 "nbformat": 4,
 "nbformat_minor": 2
}
