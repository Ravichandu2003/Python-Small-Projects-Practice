{
 "cells": [
  {
   "cell_type": "code",
   "execution_count": 1,
   "metadata": {},
   "outputs": [],
   "source": [
    "import time\n",
    "import tkinter as tk\n",
    "from tkinter import *\n",
    "from datetime import datetime\n",
    "from win10toast import ToastNotifier\n",
    "import winsound"
   ]
  },
  {
   "cell_type": "code",
   "execution_count": 2,
   "metadata": {},
   "outputs": [],
   "source": [
    "#creating a winodw\n",
    "window = Tk()\n",
    "window.geometry('600x600')#giving size\n",
    "window.title('PythonGeeks')#giving title\n",
    "Label(window, text=\"Countdown Clock and Timer\", font=('Calibri 15')).pack(pady=20)"
   ]
  },
  {
   "cell_type": "code",
   "execution_count": 3,
   "metadata": {},
   "outputs": [],
   "source": [
    "#to print current time\n",
    "now = datetime.now()\n",
    "current_time = now.strftime(\"%H:%M:%S\")\n",
    "Label(window,text=current_time).pack()"
   ]
  },
  {
   "cell_type": "code",
   "execution_count": 4,
   "metadata": {},
   "outputs": [],
   "source": [
    "check=tk.BooleanVar()#check is of boolean type\n",
    "hour=tk.IntVar()# ensure count is of integer type\n",
    "minus=tk.IntVar()# ensure count is of integer type\n",
    "secon=tk.IntVar()# ensure count is of integer type"
   ]
  },
  {
   "cell_type": "code",
   "execution_count": 5,
   "metadata": {},
   "outputs": [],
   "source": [
    "# define the countdown func.\n",
    "def countdown():\n",
    "    h=hour.get()#get the value\n",
    "    m=minus.get()#get the value\n",
    "    s=secon.get()#get the value\n",
    "    t= h * 3600 + m * 60 + s\n",
    "    while t:\n",
    "        mins, secs = divmod(t, 60)\n",
    "        display = ('{:02d}:{:02d}'.format(mins, secs))\n",
    "        time.sleep(1)#sleep time 1 sec\n",
    "        t -= 1\n",
    "        Label(window,text= display).pack()\n",
    "    \n",
    "    if (check.get()==True):#if the value of check is true     \n",
    "            winsound.Beep(440, 1000)#beep sound \n",
    "        \n",
    "    Label(window,text=\"Time-Up\",font=('bold', 20)).place(x=250,y=440)\n",
    "    #display notification on dekstop\n",
    "    toast = ToastNotifier()#create toast variable\n",
    "    toast.show_toast(\"Notification\",\"Timer is Off\",duration = 20,icon_path = NONE,threaded = True,)#show toast\n",
    "\n"
   ]
  },
  {
   "cell_type": "code",
   "execution_count": 6,
   "metadata": {},
   "outputs": [],
   "source": [
    "Label(window,text=\"Enter time in HH:MM:SS\",font=('bold')).pack()\n",
    "Entry(window,textvariable = hour,width=30).pack()\n",
    "\n",
    "Entry(window,textvariable = minus,width=30).pack()\n",
    "\n",
    "Entry(window,textvariable = secon,width=30).pack()\n",
    "\n",
    "Checkbutton(text='Check for Music',onvalue=True,variable=check).pack()#creating checkbox\n",
    "Button(window,text=\"Set Countdown\",command=countdown,bg='yellow').pack()#create buttons  \n",
    "window.update()#update the window\n",
    "window.mainloop()#main command"
   ]
  }
 ],
 "metadata": {
  "kernelspec": {
   "display_name": "sproject",
   "language": "python",
   "name": "sproject"
  },
  "language_info": {
   "codemirror_mode": {
    "name": "ipython",
    "version": 3
   },
   "file_extension": ".py",
   "mimetype": "text/x-python",
   "name": "python",
   "nbconvert_exporter": "python",
   "pygments_lexer": "ipython3",
   "version": "3.11.8"
  }
 },
 "nbformat": 4,
 "nbformat_minor": 2
}
